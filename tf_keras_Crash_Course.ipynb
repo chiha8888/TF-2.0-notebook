{
  "nbformat": 4,
  "nbformat_minor": 0,
  "metadata": {
    "colab": {
      "name": "tf.keras for Researchers: Crash Course.ipynb",
      "provenance": [],
      "collapsed_sections": [],
      "include_colab_link": true
    },
    "kernelspec": {
      "name": "python3",
      "display_name": "Python 3"
    },
    "accelerator": "GPU"
  },
  "cells": [
    {
      "cell_type": "markdown",
      "metadata": {
        "id": "view-in-github",
        "colab_type": "text"
      },
      "source": [
        "<a href=\"https://colab.research.google.com/github/chiha8888/TF-2.0-notebook/blob/master/tf_keras_Crash_Course.ipynb\" target=\"_parent\"><img src=\"https://colab.research.google.com/assets/colab-badge.svg\" alt=\"Open In Colab\"/></a>"
      ]
    },
    {
      "cell_type": "code",
      "metadata": {
        "id": "0IPokL4mivsz",
        "colab_type": "code",
        "colab": {
          "base_uri": "https://localhost:8080/",
          "height": 1000
        },
        "outputId": "04d4f6dc-b690-4b02-c090-9435b8cd5e96"
      },
      "source": [
        "!pip install tensorflow==2.0.0"
      ],
      "execution_count": 1,
      "outputs": [
        {
          "output_type": "stream",
          "text": [
            "Collecting tensorflow==2.0.0\n",
            "\u001b[?25l  Downloading https://files.pythonhosted.org/packages/46/0f/7bd55361168bb32796b360ad15a25de6966c9c1beb58a8e30c01c8279862/tensorflow-2.0.0-cp36-cp36m-manylinux2010_x86_64.whl (86.3MB)\n",
            "\u001b[K     |████████████████████████████████| 86.3MB 130kB/s \n",
            "\u001b[?25hRequirement already satisfied: numpy<2.0,>=1.16.0 in /usr/local/lib/python3.6/dist-packages (from tensorflow==2.0.0) (1.17.4)\n",
            "Requirement already satisfied: wheel>=0.26 in /usr/local/lib/python3.6/dist-packages (from tensorflow==2.0.0) (0.33.6)\n",
            "Requirement already satisfied: opt-einsum>=2.3.2 in /usr/local/lib/python3.6/dist-packages (from tensorflow==2.0.0) (3.1.0)\n",
            "Requirement already satisfied: gast==0.2.2 in /usr/local/lib/python3.6/dist-packages (from tensorflow==2.0.0) (0.2.2)\n",
            "Requirement already satisfied: keras-preprocessing>=1.0.5 in /usr/local/lib/python3.6/dist-packages (from tensorflow==2.0.0) (1.1.0)\n",
            "Requirement already satisfied: google-pasta>=0.1.6 in /usr/local/lib/python3.6/dist-packages (from tensorflow==2.0.0) (0.1.8)\n",
            "Requirement already satisfied: grpcio>=1.8.6 in /usr/local/lib/python3.6/dist-packages (from tensorflow==2.0.0) (1.15.0)\n",
            "Collecting tensorflow-estimator<2.1.0,>=2.0.0\n",
            "\u001b[?25l  Downloading https://files.pythonhosted.org/packages/fc/08/8b927337b7019c374719145d1dceba21a8bb909b93b1ad6f8fb7d22c1ca1/tensorflow_estimator-2.0.1-py2.py3-none-any.whl (449kB)\n",
            "\u001b[K     |████████████████████████████████| 450kB 45.2MB/s \n",
            "\u001b[?25hRequirement already satisfied: wrapt>=1.11.1 in /usr/local/lib/python3.6/dist-packages (from tensorflow==2.0.0) (1.11.2)\n",
            "Requirement already satisfied: astor>=0.6.0 in /usr/local/lib/python3.6/dist-packages (from tensorflow==2.0.0) (0.8.0)\n",
            "Requirement already satisfied: termcolor>=1.1.0 in /usr/local/lib/python3.6/dist-packages (from tensorflow==2.0.0) (1.1.0)\n",
            "Requirement already satisfied: absl-py>=0.7.0 in /usr/local/lib/python3.6/dist-packages (from tensorflow==2.0.0) (0.8.1)\n",
            "Requirement already satisfied: protobuf>=3.6.1 in /usr/local/lib/python3.6/dist-packages (from tensorflow==2.0.0) (3.10.0)\n",
            "Requirement already satisfied: keras-applications>=1.0.8 in /usr/local/lib/python3.6/dist-packages (from tensorflow==2.0.0) (1.0.8)\n",
            "Collecting tensorboard<2.1.0,>=2.0.0\n",
            "\u001b[?25l  Downloading https://files.pythonhosted.org/packages/76/54/99b9d5d52d5cb732f099baaaf7740403e83fe6b0cedde940fabd2b13d75a/tensorboard-2.0.2-py3-none-any.whl (3.8MB)\n",
            "\u001b[K     |████████████████████████████████| 3.8MB 30.9MB/s \n",
            "\u001b[?25hRequirement already satisfied: six>=1.10.0 in /usr/local/lib/python3.6/dist-packages (from tensorflow==2.0.0) (1.12.0)\n",
            "Requirement already satisfied: setuptools in /usr/local/lib/python3.6/dist-packages (from protobuf>=3.6.1->tensorflow==2.0.0) (41.6.0)\n",
            "Requirement already satisfied: h5py in /usr/local/lib/python3.6/dist-packages (from keras-applications>=1.0.8->tensorflow==2.0.0) (2.8.0)\n",
            "Requirement already satisfied: markdown>=2.6.8 in /usr/local/lib/python3.6/dist-packages (from tensorboard<2.1.0,>=2.0.0->tensorflow==2.0.0) (3.1.1)\n",
            "Collecting google-auth<2,>=1.6.3\n",
            "\u001b[?25l  Downloading https://files.pythonhosted.org/packages/7b/cb/786dc53d93494784935a62947643b48250b84a882474e714f9af5e1a1928/google_auth-1.7.1-py2.py3-none-any.whl (74kB)\n",
            "\u001b[K     |████████████████████████████████| 81kB 10.4MB/s \n",
            "\u001b[?25hRequirement already satisfied: werkzeug>=0.11.15 in /usr/local/lib/python3.6/dist-packages (from tensorboard<2.1.0,>=2.0.0->tensorflow==2.0.0) (0.16.0)\n",
            "Requirement already satisfied: requests<3,>=2.21.0 in /usr/local/lib/python3.6/dist-packages (from tensorboard<2.1.0,>=2.0.0->tensorflow==2.0.0) (2.21.0)\n",
            "Requirement already satisfied: google-auth-oauthlib<0.5,>=0.4.1 in /usr/local/lib/python3.6/dist-packages (from tensorboard<2.1.0,>=2.0.0->tensorflow==2.0.0) (0.4.1)\n",
            "Requirement already satisfied: cachetools<3.2,>=2.0.0 in /usr/local/lib/python3.6/dist-packages (from google-auth<2,>=1.6.3->tensorboard<2.1.0,>=2.0.0->tensorflow==2.0.0) (3.1.1)\n",
            "Requirement already satisfied: rsa<4.1,>=3.1.4 in /usr/local/lib/python3.6/dist-packages (from google-auth<2,>=1.6.3->tensorboard<2.1.0,>=2.0.0->tensorflow==2.0.0) (4.0)\n",
            "Requirement already satisfied: pyasn1-modules>=0.2.1 in /usr/local/lib/python3.6/dist-packages (from google-auth<2,>=1.6.3->tensorboard<2.1.0,>=2.0.0->tensorflow==2.0.0) (0.2.7)\n",
            "Requirement already satisfied: idna<2.9,>=2.5 in /usr/local/lib/python3.6/dist-packages (from requests<3,>=2.21.0->tensorboard<2.1.0,>=2.0.0->tensorflow==2.0.0) (2.8)\n",
            "Requirement already satisfied: chardet<3.1.0,>=3.0.2 in /usr/local/lib/python3.6/dist-packages (from requests<3,>=2.21.0->tensorboard<2.1.0,>=2.0.0->tensorflow==2.0.0) (3.0.4)\n",
            "Requirement already satisfied: certifi>=2017.4.17 in /usr/local/lib/python3.6/dist-packages (from requests<3,>=2.21.0->tensorboard<2.1.0,>=2.0.0->tensorflow==2.0.0) (2019.9.11)\n",
            "Requirement already satisfied: urllib3<1.25,>=1.21.1 in /usr/local/lib/python3.6/dist-packages (from requests<3,>=2.21.0->tensorboard<2.1.0,>=2.0.0->tensorflow==2.0.0) (1.24.3)\n",
            "Requirement already satisfied: requests-oauthlib>=0.7.0 in /usr/local/lib/python3.6/dist-packages (from google-auth-oauthlib<0.5,>=0.4.1->tensorboard<2.1.0,>=2.0.0->tensorflow==2.0.0) (1.3.0)\n",
            "Requirement already satisfied: pyasn1>=0.1.3 in /usr/local/lib/python3.6/dist-packages (from rsa<4.1,>=3.1.4->google-auth<2,>=1.6.3->tensorboard<2.1.0,>=2.0.0->tensorflow==2.0.0) (0.4.7)\n",
            "Requirement already satisfied: oauthlib>=3.0.0 in /usr/local/lib/python3.6/dist-packages (from requests-oauthlib>=0.7.0->google-auth-oauthlib<0.5,>=0.4.1->tensorboard<2.1.0,>=2.0.0->tensorflow==2.0.0) (3.1.0)\n",
            "\u001b[31mERROR: tensorboard 2.0.2 has requirement grpcio>=1.24.3, but you'll have grpcio 1.15.0 which is incompatible.\u001b[0m\n",
            "\u001b[31mERROR: google-colab 1.0.0 has requirement google-auth~=1.4.0, but you'll have google-auth 1.7.1 which is incompatible.\u001b[0m\n",
            "Installing collected packages: tensorflow-estimator, google-auth, tensorboard, tensorflow\n",
            "  Found existing installation: tensorflow-estimator 1.15.1\n",
            "    Uninstalling tensorflow-estimator-1.15.1:\n",
            "      Successfully uninstalled tensorflow-estimator-1.15.1\n",
            "  Found existing installation: google-auth 1.4.2\n",
            "    Uninstalling google-auth-1.4.2:\n",
            "      Successfully uninstalled google-auth-1.4.2\n",
            "  Found existing installation: tensorboard 1.15.0\n",
            "    Uninstalling tensorboard-1.15.0:\n",
            "      Successfully uninstalled tensorboard-1.15.0\n",
            "  Found existing installation: tensorflow 1.15.0\n",
            "    Uninstalling tensorflow-1.15.0:\n",
            "      Successfully uninstalled tensorflow-1.15.0\n",
            "Successfully installed google-auth-1.7.1 tensorboard-2.0.2 tensorflow-2.0.0 tensorflow-estimator-2.0.1\n"
          ],
          "name": "stdout"
        },
        {
          "output_type": "display_data",
          "data": {
            "application/vnd.colab-display-data+json": {
              "pip_warning": {
                "packages": [
                  "google"
                ]
              }
            }
          },
          "metadata": {
            "tags": []
          }
        }
      ]
    },
    {
      "cell_type": "code",
      "metadata": {
        "id": "rwREGJ7Wiyl9",
        "colab_type": "code",
        "outputId": "ae7f3f40-5f2a-4d73-cf74-5f3940721a4d",
        "colab": {
          "base_uri": "https://localhost:8080/",
          "height": 35
        }
      },
      "source": [
        "import tensorflow as tf\n",
        "\n",
        "tf.__version__"
      ],
      "execution_count": 1,
      "outputs": [
        {
          "output_type": "execute_result",
          "data": {
            "text/plain": [
              "'2.0.0'"
            ]
          },
          "metadata": {
            "tags": []
          },
          "execution_count": 1
        }
      ]
    },
    {
      "cell_type": "markdown",
      "metadata": {
        "id": "xEuWqzjlPobA",
        "colab_type": "text"
      },
      "source": [
        "# tf.keras for Researchers: Crash Course\n",
        "\n",
        "Are you a deep learning researcher? Wondering if all this TensorFlow 2.0 stuff is relevant to you?\n",
        "\n",
        "This notebook is a crash course on everything you need to know to use TensorFlow 2.0 for deep learning research."
      ]
    },
    {
      "cell_type": "markdown",
      "metadata": {
        "id": "cttOYWBtPx9f",
        "colab_type": "text"
      },
      "source": [
        "1) The first class you need to know is `Layer`. A Layer encapsulates a state (weights) and some computation (defined in the `call` method).\n"
      ]
    },
    {
      "cell_type": "code",
      "metadata": {
        "id": "67-lEi5tjYwd",
        "colab_type": "code",
        "colab": {
          "base_uri": "https://localhost:8080/",
          "height": 139
        },
        "outputId": "429f92c5-1621-4fc2-de85-584d48616861"
      },
      "source": [
        "from tensorflow.keras.layers import Layer\n",
        "\n",
        "\n",
        "class Linear(Layer):\n",
        "  \"\"\"y = w.x + b\"\"\"\n",
        "\n",
        "  def __init__(self, units=32, input_dim=32):\n",
        "      super(Linear, self).__init__()\n",
        "      w_init = tf.random_normal_initializer()\n",
        "      self.w = tf.Variable(\n",
        "          initial_value=w_init(shape=(input_dim, units), dtype='float32'),\n",
        "          trainable=True)\n",
        "      b_init = tf.zeros_initializer()\n",
        "      self.b = tf.Variable(\n",
        "          initial_value=b_init(shape=(units,), dtype='float32'),\n",
        "          trainable=True)\n",
        "\n",
        "  def call(self, inputs):\n",
        "      return tf.matmul(inputs, self.w) + self.b\n",
        "\n",
        "\n",
        "# Instantiate our layer.\n",
        "linear_layer = Linear(4, 2)\n",
        "\n",
        "# The layer can be treated as a function.\n",
        "# Here we call it on some data.\n",
        "y = linear_layer(tf.ones((2, 2)))\n",
        "print(y)\n",
        "assert y.shape == (2, 4)\n",
        "\n",
        "# Weights are automatically tracked under the `weights` property.\n",
        "assert linear_layer.weights == [linear_layer.w, linear_layer.b]\n",
        "print(linear_layer.weights)"
      ],
      "execution_count": 2,
      "outputs": [
        {
          "output_type": "stream",
          "text": [
            "tf.Tensor(\n",
            "[[-0.1037403   0.05179512  0.03988151 -0.07712234]\n",
            " [-0.1037403   0.05179512  0.03988151 -0.07712234]], shape=(2, 4), dtype=float32)\n",
            "[<tf.Variable 'Variable:0' shape=(2, 4) dtype=float32, numpy=\n",
            "array([[-0.04963103,  0.0367079 , -0.00491219,  0.02682281],\n",
            "       [-0.05410928,  0.01508721,  0.04479371, -0.10394515]],\n",
            "      dtype=float32)>, <tf.Variable 'Variable:0' shape=(4,) dtype=float32, numpy=array([0., 0., 0., 0.], dtype=float32)>]\n"
          ],
          "name": "stdout"
        }
      ]
    },
    {
      "cell_type": "markdown",
      "metadata": {
        "id": "jb5ggGDN8ZSV",
        "colab_type": "text"
      },
      "source": [
        "# Linear function: y=x*W+b"
      ]
    },
    {
      "cell_type": "markdown",
      "metadata": {
        "id": "6O77qfbqPn06",
        "colab_type": "text"
      },
      "source": [
        "2) The `add_weight` method gives you a shortcut for creating weights.\n",
        "\n",
        "3) It’s good practice to create weights in a separate <font color=#ff0000>`build` method, called lazily with the shape of the first inputs seen by your layer.</font> Here, this pattern prevents us from having to specify `input_dim` in the constructor:\n"
      ]
    },
    {
      "cell_type": "code",
      "metadata": {
        "id": "0SnzTy1Rjyi_",
        "colab_type": "code",
        "colab": {
          "base_uri": "https://localhost:8080/",
          "height": 87
        },
        "outputId": "3146abb8-c51e-4199-eb5d-826ccabf5463"
      },
      "source": [
        "class Linear(Layer):\n",
        "  \"\"\"y = w.x + b\"\"\"\n",
        "\n",
        "  def __init__(self, units=32):\n",
        "      super(Linear, self).__init__()\n",
        "      self.units = units\n",
        "\n",
        "  def build(self, input_shape):\n",
        "      self.w = self.add_weight(shape=(input_shape[-1], self.units),\n",
        "                               initializer='random_normal',\n",
        "                               trainable=True)\n",
        "      self.b = self.add_weight(shape=(self.units,),\n",
        "                               initializer='random_normal',\n",
        "                               trainable=True)\n",
        "\n",
        "  def call(self, inputs):\n",
        "      return tf.matmul(inputs, self.w) + self.b\n",
        "\n",
        "\n",
        "# Instantiate our lazy layer.\n",
        "linear_layer = Linear(4)\n",
        "print(linear_layer.weights)\n",
        "\n",
        "# This will also call `build(input_shape)` and create the weights.\n",
        "y = linear_layer(tf.ones((2, 2)))\n",
        "print(y)"
      ],
      "execution_count": 3,
      "outputs": [
        {
          "output_type": "stream",
          "text": [
            "[]\n",
            "tf.Tensor(\n",
            "[[ 0.10325585  0.01376311  0.02375749 -0.02875282]\n",
            " [ 0.10325585  0.01376311  0.02375749 -0.02875282]], shape=(2, 4), dtype=float32)\n"
          ],
          "name": "stdout"
        }
      ]
    },
    {
      "cell_type": "markdown",
      "metadata": {
        "id": "MCyO_yLFQv4I",
        "colab_type": "text"
      },
      "source": [
        "4) You can automatically retrieve the gradients of the weights of a layer by calling it inside a `GradientTape`.  Using these gradients, you can update the weights of the layer, either manually, or using an optimizer object. Of course, you can modify the gradients before using them, if you need to."
      ]
    },
    {
      "cell_type": "code",
      "metadata": {
        "id": "UHOOlixcQ9Gl",
        "colab_type": "code",
        "outputId": "ef366f4c-15f5-44f1-cfd1-656511f6292a",
        "colab": {
          "base_uri": "https://localhost:8080/",
          "height": 208
        }
      },
      "source": [
        "# Prepare a dataset.\n",
        "(x_train, y_train), _ = tf.keras.datasets.mnist.load_data()\n",
        "dataset = tf.data.Dataset.from_tensor_slices(\n",
        "    (x_train.reshape(60000, 784).astype('float32') / 255, y_train))\n",
        "print(dataset)\n",
        "dataset = dataset.shuffle(buffer_size=1024).batch(64)\n",
        "\n",
        "# Instantiate our linear layer (defined above) with 10 units.\n",
        "linear_layer = Linear(10)\n",
        "\n",
        "# Instantiate a logistic loss function that expects integer targets.\n",
        "loss_fn = tf.keras.losses.SparseCategoricalCrossentropy(from_logits=True)\n",
        "\n",
        "# Instantiate an optimizer.\n",
        "optimizer = tf.keras.optimizers.SGD(learning_rate=1e-3)\n",
        "\n",
        "\n",
        "# Iterate over the batches of the dataset.\n",
        "# Total 60000/64=938 iterations\n",
        "for step, (x, y) in enumerate(dataset):\n",
        "  # Open a GradientTape.\n",
        "  with tf.GradientTape() as tape:\n",
        "\n",
        "    # Forward pass.\n",
        "    logits = linear_layer(x)\n",
        "\n",
        "    # Loss value for this batch.\n",
        "    loss = loss_fn(y, logits)\n",
        "     \n",
        "  # Get gradients of weights wrt the loss.\n",
        "  gradients = tape.gradient(loss, linear_layer.trainable_weights)\n",
        "  \n",
        "  # Update the weights of our linear layer.\n",
        "  optimizer.apply_gradients(zip(gradients, linear_layer.trainable_weights))\n",
        "  \n",
        "  # Logging.\n",
        "  if step % 100 == 0:\n",
        "    print(step, float(loss))"
      ],
      "execution_count": 4,
      "outputs": [
        {
          "output_type": "stream",
          "text": [
            "<TensorSliceDataset shapes: ((784,), ()), types: (tf.float32, tf.uint8)>\n",
            "0 2.441767930984497\n",
            "100 2.2938437461853027\n",
            "200 2.1322343349456787\n",
            "300 2.07163667678833\n",
            "400 2.0653035640716553\n",
            "500 1.8506524562835693\n",
            "600 1.8556087017059326\n",
            "700 1.8007123470306396\n",
            "800 1.781820297241211\n",
            "900 1.671461820602417\n"
          ],
          "name": "stdout"
        }
      ]
    },
    {
      "cell_type": "markdown",
      "metadata": {
        "id": "Ghnbq7zeQJ6H",
        "colab_type": "text"
      },
      "source": [
        "5) Weights created by layers can be either trainable or non-trainable. They're exposed in `trainable_weights` and `non_trainable_weights`. Here's a layer with a non-trainable weight:"
      ]
    },
    {
      "cell_type": "code",
      "metadata": {
        "id": "TdAF5xWFj9vp",
        "colab_type": "code",
        "outputId": "de819bf5-b9c6-44d7-ed54-e800bb190929",
        "colab": {
          "base_uri": "https://localhost:8080/",
          "height": 52
        }
      },
      "source": [
        "class ComputeSum(Layer):\n",
        "  \"\"\"Returns the sum of the inputs.\"\"\"\n",
        "\n",
        "  def __init__(self, input_dim):\n",
        "      super(ComputeSum, self).__init__()\n",
        "      # Create a non-trainable weight.\n",
        "      self.total = tf.Variable(initial_value=tf.zeros((input_dim,)),\n",
        "                               trainable=False)\n",
        "\n",
        "  def call(self, inputs):\n",
        "      self.total.assign_add(tf.reduce_sum(inputs, axis=0))\n",
        "      return self.total  \n",
        "\n",
        "my_sum = ComputeSum(2)\n",
        "x = tf.ones((2, 2))\n",
        "\n",
        "y = my_sum(x)\n",
        "print(y.numpy())  # [2. 2.]\n",
        "\n",
        "y = my_sum(x)\n",
        "print(y.numpy())  # [4. 4.]\n",
        "\n",
        "assert my_sum.weights == [my_sum.total]\n",
        "assert my_sum.non_trainable_weights == [my_sum.total]\n",
        "assert my_sum.trainable_weights == []"
      ],
      "execution_count": 5,
      "outputs": [
        {
          "output_type": "stream",
          "text": [
            "[2. 2.]\n",
            "[4. 4.]\n"
          ],
          "name": "stdout"
        }
      ]
    },
    {
      "cell_type": "markdown",
      "metadata": {
        "id": "2f-IqdBvQqVW",
        "colab_type": "text"
      },
      "source": [
        "6) Layers can be recursively nested to create bigger computation blocks. Each layer will track the weights of its sublayers (both trainable and non-trainable)."
      ]
    },
    {
      "cell_type": "code",
      "metadata": {
        "id": "4so7zVstj_Js",
        "colab_type": "code",
        "colab": {}
      },
      "source": [
        "# Let's reuse the Linear class\n",
        "# with a `build` method that we defined above.\n",
        "\n",
        "class MLP(Layer):\n",
        "    \"\"\"Simple stack of Linear layers.\"\"\"\n",
        "\n",
        "    def __init__(self):\n",
        "        super(MLP, self).__init__()\n",
        "        self.linear_1 = Linear(32)\n",
        "        self.linear_2 = Linear(32)\n",
        "        self.linear_3 = Linear(10)\n",
        "\n",
        "    def call(self, inputs):\n",
        "        x = self.linear_1(inputs)\n",
        "        x = tf.nn.relu(x)\n",
        "        x = self.linear_2(x)\n",
        "        x = tf.nn.relu(x)\n",
        "        return self.linear_3(x)\n",
        "\n",
        "mlp = MLP()\n",
        "\n",
        "# The first call to the `mlp` object will create the weights.\n",
        "y = mlp(tf.ones(shape=(3, 64)))\n",
        "\n",
        "# Weights are recursively tracked.\n",
        "assert len(mlp.weights) == 6"
      ],
      "execution_count": 0,
      "outputs": []
    },
    {
      "cell_type": "markdown",
      "metadata": {
        "id": "Eg-3_LxhUhGX",
        "colab_type": "text"
      },
      "source": [
        "7) Layers can create losses during the forward pass. This is especially useful for regularization losses. The losses created by sublayers are recursively tracked by the parent layers."
      ]
    },
    {
      "cell_type": "markdown",
      "metadata": {
        "id": "5tNASceiouV8",
        "colab_type": "text"
      },
      "source": [
        "# 加入 Regularization term"
      ]
    },
    {
      "cell_type": "code",
      "metadata": {
        "id": "cnGNfHAWTvGe",
        "colab_type": "code",
        "outputId": "81bd9522-399c-4ae1-e5d0-54af5a74ffcc",
        "colab": {
          "base_uri": "https://localhost:8080/",
          "height": 399
        }
      },
      "source": [
        "class ActivityRegularization(Layer):\n",
        "  \"\"\"Layer that creates an activity sparsity regularization loss.\"\"\"\n",
        "  \n",
        "  def __init__(self, rate=1e-2):\n",
        "    super(ActivityRegularization, self).__init__()\n",
        "    self.rate = rate\n",
        "  \n",
        "  def call(self, inputs):\n",
        "    # We use `add_loss` to create a regularization loss\n",
        "    # that depends on the inputs.\n",
        "    self.add_loss(self.rate * tf.reduce_sum(inputs))\n",
        "    return inputs\n",
        "\n",
        "\n",
        "# Let's use the loss layer in a MLP block.\n",
        "\n",
        "class SparseMLP(Layer):\n",
        "  \"\"\"Stack of Linear layers with a sparsity regularization loss.\"\"\"\n",
        "\n",
        "  def __init__(self):\n",
        "      super(SparseMLP, self).__init__()\n",
        "      self.linear_1 = Linear(32)\n",
        "      self.regularization = ActivityRegularization(1e-2)\n",
        "      self.linear_3 = Linear(10)\n",
        "\n",
        "  def call(self, inputs):\n",
        "      x = self.linear_1(inputs)\n",
        "      x = tf.nn.relu(x)\n",
        "      x = self.regularization(x)\n",
        "      return self.linear_3(x)\n",
        "    \n",
        "\n",
        "mlp = SparseMLP()\n",
        "y = mlp(tf.ones((10, 10)))\n",
        "print(y)\n",
        "print(mlp.losses)  # List containing one float32 scalar"
      ],
      "execution_count": 7,
      "outputs": [
        {
          "output_type": "stream",
          "text": [
            "tf.Tensor(\n",
            "[[ 0.05097039  0.02140288  0.0797525   0.05818043  0.07156118 -0.01187912\n",
            "   0.107729   -0.05236784 -0.06200612  0.05680842]\n",
            " [ 0.05097039  0.02140288  0.0797525   0.05818043  0.07156118 -0.01187912\n",
            "   0.107729   -0.05236784 -0.06200612  0.05680842]\n",
            " [ 0.05097039  0.02140288  0.0797525   0.05818043  0.07156118 -0.01187912\n",
            "   0.107729   -0.05236784 -0.06200612  0.05680842]\n",
            " [ 0.05097039  0.02140288  0.0797525   0.05818043  0.07156118 -0.01187912\n",
            "   0.107729   -0.05236784 -0.06200612  0.05680842]\n",
            " [ 0.05097039  0.02140288  0.0797525   0.05818043  0.07156118 -0.01187912\n",
            "   0.107729   -0.05236784 -0.06200612  0.05680842]\n",
            " [ 0.05097039  0.02140288  0.0797525   0.05818043  0.07156118 -0.01187912\n",
            "   0.107729   -0.05236784 -0.06200612  0.05680842]\n",
            " [ 0.05097039  0.02140288  0.0797525   0.05818043  0.07156118 -0.01187912\n",
            "   0.107729   -0.05236784 -0.06200612  0.05680842]\n",
            " [ 0.05097039  0.02140288  0.0797525   0.05818043  0.07156118 -0.01187912\n",
            "   0.107729   -0.05236784 -0.06200612  0.05680842]\n",
            " [ 0.05097039  0.02140288  0.0797525   0.05818043  0.07156118 -0.01187912\n",
            "   0.107729   -0.05236784 -0.06200612  0.05680842]\n",
            " [ 0.05097039  0.02140288  0.0797525   0.05818043  0.07156118 -0.01187912\n",
            "   0.107729   -0.05236784 -0.06200612  0.05680842]], shape=(10, 10), dtype=float32)\n",
            "[<tf.Tensor: id=62183, shape=(), dtype=float32, numpy=0.22042595>]\n"
          ],
          "name": "stdout"
        }
      ]
    },
    {
      "cell_type": "markdown",
      "metadata": {
        "id": "iMtZLM3RkrkL",
        "colab_type": "text"
      },
      "source": [
        "# 用 GradientTape 訓練 MNIST image"
      ]
    },
    {
      "cell_type": "markdown",
      "metadata": {
        "id": "p69GSoulV632",
        "colab_type": "text"
      },
      "source": [
        "8) These losses are cleared by the top-level layer at the start of each forward pass -- they don't accumulate. `layer.losses` always contain only the losses created during the *last* forward pass. You would typically use these losses by <font color=#ff0000>summing them</font> before computing your gradients when writing a training loop."
      ]
    },
    {
      "cell_type": "code",
      "metadata": {
        "id": "WH8alljNVj2J",
        "colab_type": "code",
        "outputId": "d1526232-65f8-48c5-8a9a-83fa543d3a35",
        "colab": {
          "base_uri": "https://localhost:8080/",
          "height": 208
        }
      },
      "source": [
        "# Losses correspond to the *last* forward pass.\n",
        "mlp = SparseMLP()\n",
        "mlp(tf.ones((10, 10)))\n",
        "assert len(mlp.losses) == 1\n",
        "mlp(tf.ones((10, 10)))\n",
        "assert len(mlp.losses) == 1  # No accumulation.\n",
        "\n",
        "# Let's demonstrate how to use these losses in a training loop.\n",
        "\n",
        "# Prepare a dataset.\n",
        "(x_train, y_train), _ = tf.keras.datasets.mnist.load_data()\n",
        "dataset = tf.data.Dataset.from_tensor_slices(\n",
        "    (x_train.reshape(60000, 784).astype('float32') / 255, y_train))\n",
        "dataset = dataset.shuffle(buffer_size=1024).batch(64)\n",
        "print(dataset)\n",
        "# A new MLP.\n",
        "mlp = SparseMLP()\n",
        "\n",
        "# Loss and optimizer.\n",
        "loss_fn = tf.keras.losses.SparseCategoricalCrossentropy(from_logits=True)\n",
        "optimizer = tf.keras.optimizers.SGD(learning_rate=1e-3)\n",
        "\n",
        "for step, (x, y) in enumerate(dataset):\n",
        "  # x shape (64,784) ,y shape (64,)\n",
        "  with tf.GradientTape() as tape:\n",
        "\n",
        "    # Forward pass.\n",
        "    logits = mlp(x)  # (64,10) logistic regression result\n",
        "\n",
        "    # External loss value for this batch.\n",
        "    loss = loss_fn(y, logits)\n",
        "    \n",
        "    # Add the losses created during the forward pass.(mlp.losses is the regularization term)\n",
        "    loss += sum(mlp.losses)\n",
        "\n",
        "    # Get gradients of weights wrt the loss.\n",
        "    gradients = tape.gradient(loss, mlp.trainable_weights)\n",
        "\n",
        "  # Update the weights of our linear layer.\n",
        "  optimizer.apply_gradients(zip(gradients, mlp.trainable_weights))\n",
        "  \n",
        "  # Logging.\n",
        "  if step % 100 == 0:\n",
        "    print(step, float(loss),float(mlp.losses[0]))"
      ],
      "execution_count": 8,
      "outputs": [
        {
          "output_type": "stream",
          "text": [
            "<BatchDataset shapes: ((None, 784), (None,)), types: (tf.float32, tf.uint8)>\n",
            "0 6.215620994567871 3.8925182819366455\n",
            "100 2.604119300842285 0.28565025329589844\n",
            "200 2.416881561279297 0.11837340146303177\n",
            "300 2.3670434951782227 0.06828337907791138\n",
            "400 2.3630425930023193 0.0672910213470459\n",
            "500 2.3256921768188477 0.020074443891644478\n",
            "600 2.3389499187469482 0.03504105657339096\n",
            "700 2.3413028717041016 0.02444274164736271\n",
            "800 2.326551914215088 0.027142921462655067\n",
            "900 2.348156690597534 0.03752923384308815\n"
          ],
          "name": "stdout"
        }
      ]
    },
    {
      "cell_type": "markdown",
      "metadata": {
        "id": "WQXqnfdLreYm",
        "colab_type": "text"
      },
      "source": [
        "# using python Decorator @"
      ]
    },
    {
      "cell_type": "markdown",
      "metadata": {
        "id": "jcL_zMFtZ1R8",
        "colab_type": "text"
      },
      "source": [
        "9) Running eagerly is great for debugging, but you will get better performance by compiling your computation into static graphs. Static graphs are a researcher's best friends. You can compile any function by wrapping it in a `tf.function` decorator."
      ]
    },
    {
      "cell_type": "code",
      "metadata": {
        "id": "2XmEPQhhY4ef",
        "colab_type": "code",
        "outputId": "0111ca48-45da-442e-8b3a-1cffc7a0f59f",
        "colab": {
          "base_uri": "https://localhost:8080/",
          "height": 191
        }
      },
      "source": [
        "# Prepare our layer, loss, and optimizer.\n",
        "mlp = MLP()\n",
        "loss_fn = tf.keras.losses.SparseCategoricalCrossentropy(from_logits=True)\n",
        "optimizer = tf.keras.optimizers.SGD(learning_rate=1e-3)\n",
        "\n",
        "# Create a training step function.\n",
        "\n",
        "@tf.function  # Make it fast.\n",
        "def train_on_batch(x, y):\n",
        "  with tf.GradientTape() as tape:\n",
        "    logits = mlp(x)\n",
        "    loss = loss_fn(y, logits)\n",
        "    loss += sum(mlp.losses)\n",
        "    gradients = tape.gradient(loss, mlp.trainable_weights)\n",
        "  optimizer.apply_gradients(zip(gradients, mlp.trainable_weights))\n",
        "  return loss\n",
        "\n",
        "# Prepare a dataset.\n",
        "(x_train, y_train), _ = tf.keras.datasets.mnist.load_data()\n",
        "dataset = tf.data.Dataset.from_tensor_slices(\n",
        "    (x_train.reshape(60000, 784).astype('float32') / 255, y_train))\n",
        "dataset = dataset.shuffle(buffer_size=1024).batch(64)\n",
        "\n",
        "for step, (x, y) in enumerate(dataset):\n",
        "  loss = train_on_batch(x, y)\n",
        "  if step % 100 == 0:\n",
        "    print(step, float(loss))"
      ],
      "execution_count": 9,
      "outputs": [
        {
          "output_type": "stream",
          "text": [
            "0 2.312617063522339\n",
            "100 2.310784101486206\n",
            "200 2.303553581237793\n",
            "300 2.3084964752197266\n",
            "400 2.3124568462371826\n",
            "500 2.3002705574035645\n",
            "600 2.3007633686065674\n",
            "700 2.2983503341674805\n",
            "800 2.286592960357666\n",
            "900 2.291659355163574\n"
          ],
          "name": "stdout"
        }
      ]
    },
    {
      "cell_type": "markdown",
      "metadata": {
        "id": "8dNI9xczb8ej",
        "colab_type": "text"
      },
      "source": [
        "10) Some layers, in particular the `BatchNormalization` layer and the `Dropout` layer, have different behaviors during training and inference. For such layers, it is standard practice to expose a `training` (boolean) argument in the `call` method.\n",
        "\n",
        "By exposing this argument in `call`, you enable the built-in training and evaluation loops (e.g. `fit`) to correctly use the layer in training and inference."
      ]
    },
    {
      "cell_type": "code",
      "metadata": {
        "id": "uwttOFombD1F",
        "colab_type": "code",
        "colab": {}
      },
      "source": [
        "class Dropout(Layer):\n",
        "  \n",
        "  def __init__(self, rate):\n",
        "    super(Dropout, self).__init__()\n",
        "    self.rate = rate\n",
        "\n",
        "  def call(self, inputs, training=None):\n",
        "    if training:\n",
        "      return tf.nn.dropout(inputs, rate=self.rate)\n",
        "    return inputs\n",
        "  \n",
        "\n",
        "class MLPWithDropout(Layer):\n",
        "\n",
        "  def __init__(self):\n",
        "      super(MLPWithDropout, self).__init__()\n",
        "      self.linear_1 = Linear(32)\n",
        "      self.dropout = Dropout(0.5)\n",
        "      self.linear_3 = Linear(10)\n",
        "\n",
        "  def call(self, inputs, training=None):\n",
        "      x = self.linear_1(inputs)\n",
        "      x = tf.nn.relu(x)\n",
        "      x = self.dropout(x, training=training)\n",
        "      return self.linear_3(x)\n",
        "    \n",
        "mlp = MLPWithDropout()\n",
        "y_train = mlp(tf.ones((2, 2)), training=True)\n",
        "y_test = mlp(tf.ones((2, 2)), training=False)\n"
      ],
      "execution_count": 0,
      "outputs": []
    },
    {
      "cell_type": "markdown",
      "metadata": {
        "id": "THRG48kgmQh1",
        "colab_type": "text"
      },
      "source": [
        "11) You have many built-in layers available, from `Dense` to `Conv2D` to `LSTM` to fancier ones like `Conv2DTranspose` or `ConvLSTM2D`. Be smart about reusing built-in functionality."
      ]
    },
    {
      "cell_type": "markdown",
      "metadata": {
        "id": "-V-GWeoi4PTn",
        "colab_type": "text"
      },
      "source": [
        "# Funtional API"
      ]
    },
    {
      "cell_type": "markdown",
      "metadata": {
        "id": "euLbXDzgnFti",
        "colab_type": "text"
      },
      "source": [
        "12) To build deep learning models, you don't have to use object-oriented programming all the time. All layers we've seen so far can also be composed functionally, like this (we call it the \"Functional API\"):"
      ]
    },
    {
      "cell_type": "code",
      "metadata": {
        "id": "Wb9ZT-eBoBPe",
        "colab_type": "code",
        "colab": {
          "base_uri": "https://localhost:8080/",
          "height": 104
        },
        "outputId": "f39799c4-1cd2-4634-e14f-aecae56b7d1b"
      },
      "source": [
        "# We use an `Input` object to describe the shape and dtype of the inputs.\n",
        "\n",
        "# This is the deep learning equivalent of *declaring a type*.\n",
        "# The shape argument is per-sample; it does not include the batch size.\n",
        "# The functional API focused on defining per-sample transformations.\n",
        "# The model we create will automatically batch the per-sample transformations,\n",
        "# so that it can be called on batches of data.\n",
        "inputs = tf.keras.Input(shape=(16,))\n",
        "\n",
        "# We call layers on these \"type\" objects\n",
        "# and they return updated types (new shapes/dtypes).\n",
        "x = Linear(32)(inputs) # We are reusing the Linear layer we defined earlier.\n",
        "x = Dropout(0.5)(x) # We are reusing the Dropout layer we defined earlier.\n",
        "outputs = Linear(10)(x)\n",
        "\n",
        "# A functional `Model` can be defined by specifying inputs and outputs.\n",
        "# A model is itself a layer like any other.\n",
        "model = tf.keras.Model(inputs, outputs)\n",
        "\n",
        "# A functional model already has weights, before being called on any data.\n",
        "# That's because we defined its input shape in advance (in `Input`).\n",
        "assert len(model.weights) == 4\n",
        "\n",
        "# Let's call our model on some data, for fun.\n",
        "y = model(tf.ones((2, 16)))\n",
        "assert y.shape == (2, 10)\n",
        "\n",
        "# You can pass a `training` argument in `__call__`\n",
        "# (it will get passed down to the Dropout layer).\n",
        "y = model(tf.ones((2, 16)), training=True)\n",
        "print(y)"
      ],
      "execution_count": 11,
      "outputs": [
        {
          "output_type": "stream",
          "text": [
            "tf.Tensor(\n",
            "[[-0.01020494  0.06592181  0.03336251 -0.13839874 -0.07001058 -0.03048877\n",
            "   0.02484215  0.23102415 -0.07507427  0.02235949]\n",
            " [-0.22235641 -0.04692193  0.03535543 -0.10992315 -0.09693704 -0.05120756\n",
            "   0.04779716  0.12905842 -0.1532983   0.09597816]], shape=(2, 10), dtype=float32)\n"
          ],
          "name": "stdout"
        }
      ]
    },
    {
      "cell_type": "markdown",
      "metadata": {
        "id": "ABcc4nAipMyp",
        "colab_type": "text"
      },
      "source": [
        "The Functional API tends to be more concise than subclassing, and provides a few other advantages (generally the same advantages that functional, typed languages provide over untyped OO development). However, it can only be used to define DAGs of layers -- recursive networks should be defined as `Layer` subclasses instead.\n",
        "\n",
        "Learn more about the Functional API [here](https://www.tensorflow.org/alpha/guide/keras/functional).\n",
        "\n",
        "In your research workflows, you may often find yourself mix-and-matching OO models and Functional models."
      ]
    },
    {
      "cell_type": "markdown",
      "metadata": {
        "id": "XhKL2JsRqHq3",
        "colab_type": "text"
      },
      "source": [
        "### That's all you need to get started with reimplementing most deep learning research papers in TensorFlow 2.0 and Keras!\n",
        "\n",
        "## Now for a quick research example: hypernetworks."
      ]
    },
    {
      "cell_type": "markdown",
      "metadata": {
        "id": "lFnm79N-qwP3",
        "colab_type": "text"
      },
      "source": [
        "Let's put these concepts into practice with a simple end-to-end example.\n",
        "\n",
        "A [hypernetwork](http://blog.otoro.net/2016/09/28/hyper-networks/) is a deep neural network whose weights are generated by another network (usually smaller).\n",
        "\n",
        "Let's implement a really trivial hypernetwork: we'll take the `Linear` layer we defined earlier, and we'll use it to generate the weights of... another `Linear` layer."
      ]
    },
    {
      "cell_type": "code",
      "metadata": {
        "id": "3PlPkpKnr14L",
        "colab_type": "code",
        "outputId": "4168d4cb-81b4-4b2d-cfc4-56a635736058",
        "colab": {
          "base_uri": "https://localhost:8080/",
          "height": 208
        }
      },
      "source": [
        "input_dim = 784\n",
        "classes = 10\n",
        "\n",
        "# The model we'll actually use (the hypernetwork).\n",
        "outer_model = Linear(classes)\n",
        "\n",
        "# It doesn't need to create its own weights, so let's mark it as already built.\n",
        "# That way, calling `outer_model` won't create new variables.\n",
        "outer_model.built = True\n",
        "\n",
        "# The model that generates the weights of the model above.\n",
        "inner_model = Linear(input_dim * classes + classes)\n",
        "\n",
        "# Loss and optimizer.\n",
        "loss_fn = tf.keras.losses.SparseCategoricalCrossentropy(from_logits=True)\n",
        "optimizer = tf.keras.optimizers.SGD(learning_rate=1e-3)\n",
        "\n",
        "# Prepare a dataset.\n",
        "(x_train, y_train), _ = tf.keras.datasets.mnist.load_data()\n",
        "dataset = tf.data.Dataset.from_tensor_slices(\n",
        "    (x_train.reshape(60000, 784).astype('float32') / 255, y_train))\n",
        "\n",
        "# We'll use a batch size of 1 for this experiment.\n",
        "dataset = dataset.shuffle(buffer_size=1024).batch(1)\n",
        "  \n",
        "losses = []  # Keep track of the losses over time.\n",
        "for step, (x, y) in enumerate(dataset):\n",
        "  with tf.GradientTape() as tape:\n",
        "\n",
        "    # Predict weights for the outer model.\n",
        "    weights_pred = inner_model(x)\n",
        "\n",
        "    # Reshape them to the expected shapes for w and b for the outer model.\n",
        "    w_pred = tf.reshape(weights_pred[:, :-classes], (input_dim, classes))\n",
        "    b_pred = tf.reshape(weights_pred[:, -classes:], (classes,))\n",
        "    \n",
        "    # Set the weight predictions as the weight variables on the outer model.\n",
        "    outer_model.w = w_pred\n",
        "    outer_model.b = b_pred\n",
        "    \n",
        "    # Inference on the outer model.\n",
        "    preds = outer_model(x)\n",
        "    loss = loss_fn(y, preds)\n",
        "\n",
        "  # Train only inner model.\n",
        "  grads = tape.gradient(loss, inner_model.trainable_weights)\n",
        "  optimizer.apply_gradients(zip(grads, inner_model.trainable_weights))\n",
        "  \n",
        "  # Logging.\n",
        "  losses.append(float(loss))\n",
        "  if step % 100 == 0:\n",
        "    print(step, sum(losses) / len(losses))\n",
        "    \n",
        "  # Stop after 1000 steps.\n",
        "  if step >= 1000:\n",
        "    break"
      ],
      "execution_count": 12,
      "outputs": [
        {
          "output_type": "stream",
          "text": [
            "0 1.5869944095611572\n",
            "100 4.543353566413541\n",
            "200 3.4717770133387544\n",
            "300 2.881548399619421\n",
            "400 2.5979822505053622\n",
            "500 2.376767042318779\n",
            "600 2.1964418040850484\n",
            "700 2.0753468956606507\n",
            "800 1.9671892541142508\n",
            "900 1.9212574411913692\n",
            "1000 1.7869768965177322\n"
          ],
          "name": "stdout"
        }
      ]
    },
    {
      "cell_type": "code",
      "metadata": {
        "id": "YjH4hOnFAH-G",
        "colab_type": "code",
        "colab": {}
      },
      "source": [
        ""
      ],
      "execution_count": 0,
      "outputs": []
    }
  ]
}